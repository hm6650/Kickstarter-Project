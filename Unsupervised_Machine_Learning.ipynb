{
  "nbformat": 4,
  "nbformat_minor": 0,
  "metadata": {
    "colab": {
      "provenance": []
    },
    "kernelspec": {
      "name": "python3",
      "display_name": "Python 3"
    },
    "language_info": {
      "name": "python"
    }
  },
  "cells": [
    {
      "cell_type": "code",
      "execution_count": 45,
      "metadata": {
        "id": "cZUrmDn5-9z4",
        "colab": {
          "base_uri": "https://localhost:8080/"
        },
        "outputId": "1f25b0c5-d10d-4d51-d407-0854d29d00d4"
      },
      "outputs": [
        {
          "output_type": "stream",
          "name": "stdout",
          "text": [
            "Drive already mounted at /content/drive; to attempt to forcibly remount, call drive.mount(\"/content/drive\", force_remount=True).\n"
          ]
        }
      ],
      "source": [
        "from google.colab import drive\n",
        "drive.mount(\"/content/drive\")"
      ]
    },
    {
      "cell_type": "code",
      "source": [
        "import pandas as pd\n",
        "import numpy as np\n",
        "import matplotlib.pyplot as plt\n",
        "import seaborn as sns"
      ],
      "metadata": {
        "id": "WpkYL32tq-_J"
      },
      "execution_count": 46,
      "outputs": []
    },
    {
      "cell_type": "code",
      "source": [
        "path = '/content/drive/MyDrive/Data_Mining_ Individual_Project/Kickstarter.xlsx'"
      ],
      "metadata": {
        "id": "VcAWi5q9qzzw"
      },
      "execution_count": 99,
      "outputs": []
    },
    {
      "cell_type": "code",
      "source": [
        "kickstarter_df = pd.read_excel(path)"
      ],
      "metadata": {
        "id": "Y8XSOsGyq5ap"
      },
      "execution_count": 131,
      "outputs": []
    },
    {
      "cell_type": "code",
      "source": [
        "kickstarter_df = kickstarter_df.dropna()"
      ],
      "metadata": {
        "id": "qut_0LdysVVV"
      },
      "execution_count": 132,
      "outputs": []
    },
    {
      "cell_type": "code",
      "source": [
        "#Dropping all  the observations other than success failed in project state \n",
        "kickstarter_df.drop(kickstarter_df[kickstarter_df['state']== 'canceled'].index, inplace = True)\n",
        "kickstarter_df.drop(kickstarter_df[kickstarter_df['state']== 'live'].index, inplace = True)\n",
        "kickstarter_df.drop(kickstarter_df[kickstarter_df['state']== 'suspended'].index, inplace = True)"
      ],
      "metadata": {
        "id": "XTetWDtdsm2l"
      },
      "execution_count": 133,
      "outputs": []
    },
    {
      "cell_type": "code",
      "source": [
        "kickstarter_df.describe()"
      ],
      "metadata": {
        "colab": {
          "base_uri": "https://localhost:8080/",
          "height": 394
        },
        "id": "Etw3P0LCSSPQ",
        "outputId": "37f93605-c853-4787-883f-72d351981a7c"
      },
      "execution_count": 134,
      "outputs": [
        {
          "output_type": "execute_result",
          "data": {
            "text/plain": [
              "                 id          goal       pledged  backers_count  \\\n",
              "count  1.218000e+04  1.218000e+04  1.218000e+04   12180.000000   \n",
              "mean   1.071891e+09  8.603908e+04  1.979241e+04     174.851314   \n",
              "std    6.164878e+08  1.231970e+06  1.163729e+05    1300.274077   \n",
              "min    1.645550e+05  1.000000e+00  0.000000e+00       0.000000   \n",
              "25%    5.469277e+08  3.500000e+03  2.522500e+01       2.000000   \n",
              "50%    1.073214e+09  1.050000e+04  7.010000e+02      13.000000   \n",
              "75%    1.606805e+09  4.000000e+04  5.847000e+03      64.000000   \n",
              "max    2.147017e+09  1.000000e+08  6.225355e+06  105857.000000   \n",
              "\n",
              "       static_usd_rate   usd_pledged      name_len  name_len_clean  \\\n",
              "count     12180.000000  1.218000e+04  12180.000000    12180.000000   \n",
              "mean          1.053905  1.992283e+04      5.764532        5.108949   \n",
              "std           0.233425  1.166781e+05      2.839881        2.411934   \n",
              "min           0.112727  0.000000e+00      1.000000        1.000000   \n",
              "25%           1.000000  2.600000e+01      3.000000        3.000000   \n",
              "50%           1.000000  7.357996e+02      6.000000        5.000000   \n",
              "75%           1.000000  6.065358e+03      8.000000        7.000000   \n",
              "max           1.715913  6.225355e+06     16.000000       14.000000   \n",
              "\n",
              "          blurb_len  blurb_len_clean  ...  created_at_day  created_at_yr  \\\n",
              "count  12180.000000      12180.00000  ...    12180.000000   12180.000000   \n",
              "mean      19.065681         13.05468  ...       15.514943    2014.170608   \n",
              "std        4.543840          3.17215  ...        8.753535       1.121324   \n",
              "min        1.000000          1.00000  ...        1.000000    2009.000000   \n",
              "25%       17.000000         11.00000  ...        8.000000    2014.000000   \n",
              "50%       20.000000         13.00000  ...       15.000000    2014.000000   \n",
              "75%       22.000000         15.00000  ...       23.000000    2015.000000   \n",
              "max       35.000000         30.00000  ...       31.000000    2016.000000   \n",
              "\n",
              "       created_at_hr  launched_at_month  launched_at_day  launched_at_yr  \\\n",
              "count   12180.000000       12180.000000     12180.000000    12180.000000   \n",
              "mean       12.863218           6.609606        15.276190     2014.293678   \n",
              "std         5.901121           3.351909         8.772746        1.105061   \n",
              "min         0.000000           1.000000         1.000000     2009.000000   \n",
              "25%         9.000000           4.000000         8.000000     2014.000000   \n",
              "50%        13.000000           7.000000        15.000000     2015.000000   \n",
              "75%        17.000000           9.000000        23.000000     2015.000000   \n",
              "max        23.000000          12.000000        31.000000     2016.000000   \n",
              "\n",
              "       launched_at_hr  create_to_launch_days  launch_to_deadline_days  \\\n",
              "count    12180.000000           12180.000000             12180.000000   \n",
              "mean        12.606650              46.659770                34.539737   \n",
              "std          5.598673             101.946602                12.022155   \n",
              "min          0.000000               0.000000                 1.000000   \n",
              "25%          9.000000               3.000000                30.000000   \n",
              "50%         13.000000              13.000000                30.000000   \n",
              "75%         17.000000              43.000000                39.000000   \n",
              "max         23.000000            1528.000000                91.000000   \n",
              "\n",
              "       launch_to_state_change_days  \n",
              "count                 12180.000000  \n",
              "mean                     34.539819  \n",
              "std                      12.022120  \n",
              "min                       1.000000  \n",
              "25%                      30.000000  \n",
              "50%                      30.000000  \n",
              "75%                      39.000000  \n",
              "max                      91.000000  \n",
              "\n",
              "[8 rows x 29 columns]"
            ],
            "text/html": [
              "\n",
              "  <div id=\"df-30dcdf29-2383-400f-90ba-e69c357c6435\">\n",
              "    <div class=\"colab-df-container\">\n",
              "      <div>\n",
              "<style scoped>\n",
              "    .dataframe tbody tr th:only-of-type {\n",
              "        vertical-align: middle;\n",
              "    }\n",
              "\n",
              "    .dataframe tbody tr th {\n",
              "        vertical-align: top;\n",
              "    }\n",
              "\n",
              "    .dataframe thead th {\n",
              "        text-align: right;\n",
              "    }\n",
              "</style>\n",
              "<table border=\"1\" class=\"dataframe\">\n",
              "  <thead>\n",
              "    <tr style=\"text-align: right;\">\n",
              "      <th></th>\n",
              "      <th>id</th>\n",
              "      <th>goal</th>\n",
              "      <th>pledged</th>\n",
              "      <th>backers_count</th>\n",
              "      <th>static_usd_rate</th>\n",
              "      <th>usd_pledged</th>\n",
              "      <th>name_len</th>\n",
              "      <th>name_len_clean</th>\n",
              "      <th>blurb_len</th>\n",
              "      <th>blurb_len_clean</th>\n",
              "      <th>...</th>\n",
              "      <th>created_at_day</th>\n",
              "      <th>created_at_yr</th>\n",
              "      <th>created_at_hr</th>\n",
              "      <th>launched_at_month</th>\n",
              "      <th>launched_at_day</th>\n",
              "      <th>launched_at_yr</th>\n",
              "      <th>launched_at_hr</th>\n",
              "      <th>create_to_launch_days</th>\n",
              "      <th>launch_to_deadline_days</th>\n",
              "      <th>launch_to_state_change_days</th>\n",
              "    </tr>\n",
              "  </thead>\n",
              "  <tbody>\n",
              "    <tr>\n",
              "      <th>count</th>\n",
              "      <td>1.218000e+04</td>\n",
              "      <td>1.218000e+04</td>\n",
              "      <td>1.218000e+04</td>\n",
              "      <td>12180.000000</td>\n",
              "      <td>12180.000000</td>\n",
              "      <td>1.218000e+04</td>\n",
              "      <td>12180.000000</td>\n",
              "      <td>12180.000000</td>\n",
              "      <td>12180.000000</td>\n",
              "      <td>12180.00000</td>\n",
              "      <td>...</td>\n",
              "      <td>12180.000000</td>\n",
              "      <td>12180.000000</td>\n",
              "      <td>12180.000000</td>\n",
              "      <td>12180.000000</td>\n",
              "      <td>12180.000000</td>\n",
              "      <td>12180.000000</td>\n",
              "      <td>12180.000000</td>\n",
              "      <td>12180.000000</td>\n",
              "      <td>12180.000000</td>\n",
              "      <td>12180.000000</td>\n",
              "    </tr>\n",
              "    <tr>\n",
              "      <th>mean</th>\n",
              "      <td>1.071891e+09</td>\n",
              "      <td>8.603908e+04</td>\n",
              "      <td>1.979241e+04</td>\n",
              "      <td>174.851314</td>\n",
              "      <td>1.053905</td>\n",
              "      <td>1.992283e+04</td>\n",
              "      <td>5.764532</td>\n",
              "      <td>5.108949</td>\n",
              "      <td>19.065681</td>\n",
              "      <td>13.05468</td>\n",
              "      <td>...</td>\n",
              "      <td>15.514943</td>\n",
              "      <td>2014.170608</td>\n",
              "      <td>12.863218</td>\n",
              "      <td>6.609606</td>\n",
              "      <td>15.276190</td>\n",
              "      <td>2014.293678</td>\n",
              "      <td>12.606650</td>\n",
              "      <td>46.659770</td>\n",
              "      <td>34.539737</td>\n",
              "      <td>34.539819</td>\n",
              "    </tr>\n",
              "    <tr>\n",
              "      <th>std</th>\n",
              "      <td>6.164878e+08</td>\n",
              "      <td>1.231970e+06</td>\n",
              "      <td>1.163729e+05</td>\n",
              "      <td>1300.274077</td>\n",
              "      <td>0.233425</td>\n",
              "      <td>1.166781e+05</td>\n",
              "      <td>2.839881</td>\n",
              "      <td>2.411934</td>\n",
              "      <td>4.543840</td>\n",
              "      <td>3.17215</td>\n",
              "      <td>...</td>\n",
              "      <td>8.753535</td>\n",
              "      <td>1.121324</td>\n",
              "      <td>5.901121</td>\n",
              "      <td>3.351909</td>\n",
              "      <td>8.772746</td>\n",
              "      <td>1.105061</td>\n",
              "      <td>5.598673</td>\n",
              "      <td>101.946602</td>\n",
              "      <td>12.022155</td>\n",
              "      <td>12.022120</td>\n",
              "    </tr>\n",
              "    <tr>\n",
              "      <th>min</th>\n",
              "      <td>1.645550e+05</td>\n",
              "      <td>1.000000e+00</td>\n",
              "      <td>0.000000e+00</td>\n",
              "      <td>0.000000</td>\n",
              "      <td>0.112727</td>\n",
              "      <td>0.000000e+00</td>\n",
              "      <td>1.000000</td>\n",
              "      <td>1.000000</td>\n",
              "      <td>1.000000</td>\n",
              "      <td>1.00000</td>\n",
              "      <td>...</td>\n",
              "      <td>1.000000</td>\n",
              "      <td>2009.000000</td>\n",
              "      <td>0.000000</td>\n",
              "      <td>1.000000</td>\n",
              "      <td>1.000000</td>\n",
              "      <td>2009.000000</td>\n",
              "      <td>0.000000</td>\n",
              "      <td>0.000000</td>\n",
              "      <td>1.000000</td>\n",
              "      <td>1.000000</td>\n",
              "    </tr>\n",
              "    <tr>\n",
              "      <th>25%</th>\n",
              "      <td>5.469277e+08</td>\n",
              "      <td>3.500000e+03</td>\n",
              "      <td>2.522500e+01</td>\n",
              "      <td>2.000000</td>\n",
              "      <td>1.000000</td>\n",
              "      <td>2.600000e+01</td>\n",
              "      <td>3.000000</td>\n",
              "      <td>3.000000</td>\n",
              "      <td>17.000000</td>\n",
              "      <td>11.00000</td>\n",
              "      <td>...</td>\n",
              "      <td>8.000000</td>\n",
              "      <td>2014.000000</td>\n",
              "      <td>9.000000</td>\n",
              "      <td>4.000000</td>\n",
              "      <td>8.000000</td>\n",
              "      <td>2014.000000</td>\n",
              "      <td>9.000000</td>\n",
              "      <td>3.000000</td>\n",
              "      <td>30.000000</td>\n",
              "      <td>30.000000</td>\n",
              "    </tr>\n",
              "    <tr>\n",
              "      <th>50%</th>\n",
              "      <td>1.073214e+09</td>\n",
              "      <td>1.050000e+04</td>\n",
              "      <td>7.010000e+02</td>\n",
              "      <td>13.000000</td>\n",
              "      <td>1.000000</td>\n",
              "      <td>7.357996e+02</td>\n",
              "      <td>6.000000</td>\n",
              "      <td>5.000000</td>\n",
              "      <td>20.000000</td>\n",
              "      <td>13.00000</td>\n",
              "      <td>...</td>\n",
              "      <td>15.000000</td>\n",
              "      <td>2014.000000</td>\n",
              "      <td>13.000000</td>\n",
              "      <td>7.000000</td>\n",
              "      <td>15.000000</td>\n",
              "      <td>2015.000000</td>\n",
              "      <td>13.000000</td>\n",
              "      <td>13.000000</td>\n",
              "      <td>30.000000</td>\n",
              "      <td>30.000000</td>\n",
              "    </tr>\n",
              "    <tr>\n",
              "      <th>75%</th>\n",
              "      <td>1.606805e+09</td>\n",
              "      <td>4.000000e+04</td>\n",
              "      <td>5.847000e+03</td>\n",
              "      <td>64.000000</td>\n",
              "      <td>1.000000</td>\n",
              "      <td>6.065358e+03</td>\n",
              "      <td>8.000000</td>\n",
              "      <td>7.000000</td>\n",
              "      <td>22.000000</td>\n",
              "      <td>15.00000</td>\n",
              "      <td>...</td>\n",
              "      <td>23.000000</td>\n",
              "      <td>2015.000000</td>\n",
              "      <td>17.000000</td>\n",
              "      <td>9.000000</td>\n",
              "      <td>23.000000</td>\n",
              "      <td>2015.000000</td>\n",
              "      <td>17.000000</td>\n",
              "      <td>43.000000</td>\n",
              "      <td>39.000000</td>\n",
              "      <td>39.000000</td>\n",
              "    </tr>\n",
              "    <tr>\n",
              "      <th>max</th>\n",
              "      <td>2.147017e+09</td>\n",
              "      <td>1.000000e+08</td>\n",
              "      <td>6.225355e+06</td>\n",
              "      <td>105857.000000</td>\n",
              "      <td>1.715913</td>\n",
              "      <td>6.225355e+06</td>\n",
              "      <td>16.000000</td>\n",
              "      <td>14.000000</td>\n",
              "      <td>35.000000</td>\n",
              "      <td>30.00000</td>\n",
              "      <td>...</td>\n",
              "      <td>31.000000</td>\n",
              "      <td>2016.000000</td>\n",
              "      <td>23.000000</td>\n",
              "      <td>12.000000</td>\n",
              "      <td>31.000000</td>\n",
              "      <td>2016.000000</td>\n",
              "      <td>23.000000</td>\n",
              "      <td>1528.000000</td>\n",
              "      <td>91.000000</td>\n",
              "      <td>91.000000</td>\n",
              "    </tr>\n",
              "  </tbody>\n",
              "</table>\n",
              "<p>8 rows × 29 columns</p>\n",
              "</div>\n",
              "      <button class=\"colab-df-convert\" onclick=\"convertToInteractive('df-30dcdf29-2383-400f-90ba-e69c357c6435')\"\n",
              "              title=\"Convert this dataframe to an interactive table.\"\n",
              "              style=\"display:none;\">\n",
              "        \n",
              "  <svg xmlns=\"http://www.w3.org/2000/svg\" height=\"24px\"viewBox=\"0 0 24 24\"\n",
              "       width=\"24px\">\n",
              "    <path d=\"M0 0h24v24H0V0z\" fill=\"none\"/>\n",
              "    <path d=\"M18.56 5.44l.94 2.06.94-2.06 2.06-.94-2.06-.94-.94-2.06-.94 2.06-2.06.94zm-11 1L8.5 8.5l.94-2.06 2.06-.94-2.06-.94L8.5 2.5l-.94 2.06-2.06.94zm10 10l.94 2.06.94-2.06 2.06-.94-2.06-.94-.94-2.06-.94 2.06-2.06.94z\"/><path d=\"M17.41 7.96l-1.37-1.37c-.4-.4-.92-.59-1.43-.59-.52 0-1.04.2-1.43.59L10.3 9.45l-7.72 7.72c-.78.78-.78 2.05 0 2.83L4 21.41c.39.39.9.59 1.41.59.51 0 1.02-.2 1.41-.59l7.78-7.78 2.81-2.81c.8-.78.8-2.07 0-2.86zM5.41 20L4 18.59l7.72-7.72 1.47 1.35L5.41 20z\"/>\n",
              "  </svg>\n",
              "      </button>\n",
              "      \n",
              "  <style>\n",
              "    .colab-df-container {\n",
              "      display:flex;\n",
              "      flex-wrap:wrap;\n",
              "      gap: 12px;\n",
              "    }\n",
              "\n",
              "    .colab-df-convert {\n",
              "      background-color: #E8F0FE;\n",
              "      border: none;\n",
              "      border-radius: 50%;\n",
              "      cursor: pointer;\n",
              "      display: none;\n",
              "      fill: #1967D2;\n",
              "      height: 32px;\n",
              "      padding: 0 0 0 0;\n",
              "      width: 32px;\n",
              "    }\n",
              "\n",
              "    .colab-df-convert:hover {\n",
              "      background-color: #E2EBFA;\n",
              "      box-shadow: 0px 1px 2px rgba(60, 64, 67, 0.3), 0px 1px 3px 1px rgba(60, 64, 67, 0.15);\n",
              "      fill: #174EA6;\n",
              "    }\n",
              "\n",
              "    [theme=dark] .colab-df-convert {\n",
              "      background-color: #3B4455;\n",
              "      fill: #D2E3FC;\n",
              "    }\n",
              "\n",
              "    [theme=dark] .colab-df-convert:hover {\n",
              "      background-color: #434B5C;\n",
              "      box-shadow: 0px 1px 3px 1px rgba(0, 0, 0, 0.15);\n",
              "      filter: drop-shadow(0px 1px 2px rgba(0, 0, 0, 0.3));\n",
              "      fill: #FFFFFF;\n",
              "    }\n",
              "  </style>\n",
              "\n",
              "      <script>\n",
              "        const buttonEl =\n",
              "          document.querySelector('#df-30dcdf29-2383-400f-90ba-e69c357c6435 button.colab-df-convert');\n",
              "        buttonEl.style.display =\n",
              "          google.colab.kernel.accessAllowed ? 'block' : 'none';\n",
              "\n",
              "        async function convertToInteractive(key) {\n",
              "          const element = document.querySelector('#df-30dcdf29-2383-400f-90ba-e69c357c6435');\n",
              "          const dataTable =\n",
              "            await google.colab.kernel.invokeFunction('convertToInteractive',\n",
              "                                                     [key], {});\n",
              "          if (!dataTable) return;\n",
              "\n",
              "          const docLinkHtml = 'Like what you see? Visit the ' +\n",
              "            '<a target=\"_blank\" href=https://colab.research.google.com/notebooks/data_table.ipynb>data table notebook</a>'\n",
              "            + ' to learn more about interactive tables.';\n",
              "          element.innerHTML = '';\n",
              "          dataTable['output_type'] = 'display_data';\n",
              "          await google.colab.output.renderOutput(dataTable, element);\n",
              "          const docLink = document.createElement('div');\n",
              "          docLink.innerHTML = docLinkHtml;\n",
              "          element.appendChild(docLink);\n",
              "        }\n",
              "      </script>\n",
              "    </div>\n",
              "  </div>\n",
              "  "
            ]
          },
          "metadata": {},
          "execution_count": 134
        }
      ]
    },
    {
      "cell_type": "code",
      "source": [
        "kickstarter_df['create_to_deadline'] = kickstarter_df['create_to_launch_days']+ kickstarter_df['launch_to_deadline_days']"
      ],
      "metadata": {
        "id": "-d0p4x8sxYI7"
      },
      "execution_count": 135,
      "outputs": []
    },
    {
      "cell_type": "code",
      "source": [
        "kickstarter_df['goal_usd'] = round(kickstarter_df['goal']*kickstarter_df['static_usd_rate'],3)"
      ],
      "metadata": {
        "id": "bGbt4B2vx-q-"
      },
      "execution_count": 136,
      "outputs": []
    },
    {
      "cell_type": "code",
      "source": [
        "X = kickstarter_df[['goal','disable_communication', 'static_usd_rate', 'category','name_len', 'name_len_clean','blurb_len', 'blurb_len_clean', \n",
        "          'goal_usd','create_to_launch_days','launch_to_deadline_days','create_to_deadline','state'\n",
        "        ]]\n",
        "X = pd.get_dummies(X, columns = ['disable_communication','category','state'],drop_first = True)"
      ],
      "metadata": {
        "id": "OA55DzfexEQw"
      },
      "execution_count": 137,
      "outputs": []
    },
    {
      "cell_type": "markdown",
      "source": [
        "<h3>  Data Visualization</h3>"
      ],
      "metadata": {
        "id": "RVl5qQEjrI4h"
      }
    },
    {
      "cell_type": "code",
      "source": [
        "kickstarter_df.goal.quantile([0.05,0.10,0.15,0.25,0.5,0.75,0.90, 0.99, 0.99])"
      ],
      "metadata": {
        "colab": {
          "base_uri": "https://localhost:8080/"
        },
        "id": "4FuhNsP0UEUq",
        "outputId": "f4312403-610e-4369-957e-1f163783cb29"
      },
      "execution_count": 56,
      "outputs": [
        {
          "output_type": "execute_result",
          "data": {
            "text/plain": [
              "0.05       500.00\n",
              "0.10      1000.00\n",
              "0.15      1978.45\n",
              "0.25      3500.00\n",
              "0.50     10500.00\n",
              "0.75     40000.00\n",
              "0.90    100000.00\n",
              "0.99    810500.00\n",
              "0.99    810500.00\n",
              "Name: goal, dtype: float64"
            ]
          },
          "metadata": {},
          "execution_count": 56
        }
      ]
    },
    {
      "cell_type": "code",
      "source": [
        "df =kickstarter_df[ kickstarter_df['goal']<70000]\n",
        "df= df[df['goal']>500]"
      ],
      "metadata": {
        "id": "Kqi7U_7tUVpr"
      },
      "execution_count": 9,
      "outputs": []
    },
    {
      "cell_type": "code",
      "source": [
        "sns.boxplot( y=df[\"goal\"] );"
      ],
      "metadata": {
        "colab": {
          "base_uri": "https://localhost:8080/",
          "height": 252
        },
        "id": "8x9OkRkuTTS7",
        "outputId": "a1807893-31f0-448f-b489-a5b94b0769c4"
      },
      "execution_count": null,
      "outputs": [
        {
          "output_type": "display_data",
          "data": {
            "text/plain": [
              "<Figure size 432x288 with 1 Axes>"
            ],
            "image/png": "[encoded data removed]"
          },
          "metadata": {
            "needs_background": "light"
          }
        }
      ]
    },
    {
      "cell_type": "code",
      "source": [
        "plt.figure(figsize=(10,5),dpi=120)\n",
        "sns.histplot(data=df,x='goal',bins=5,kde=True,hue ='state')"
      ],
      "metadata": {
        "colab": {
          "base_uri": "https://localhost:8080/",
          "height": 366
        },
        "id": "0rV7A1GarAZC",
        "outputId": "538108a5-7cfa-4299-d2f5-2aaeffc90ee1"
      },
      "execution_count": null,
      "outputs": [
        {
          "output_type": "execute_result",
          "data": {
            "text/plain": [
              "<matplotlib.axes._subplots.AxesSubplot at 0x7fe8fe0968e0>"
            ]
          },
          "metadata": {},
          "execution_count": 44
        },
        {
          "output_type": "display_data",
          "data": {
            "text/plain": [
              "<Figure size 1200x600 with 1 Axes>"
            ],
            "image/png": "[encoded data removed]"
          },
          "metadata": {
            "needs_background": "light"
          }
        }
      ]
    },
    {
      "cell_type": "code",
      "source": [
        "kickstarter_df.create_to_launch_days.quantile([0.05,0.10,0.15,0.25,0.5,0.75,0.90, 0.95, 0.99])"
      ],
      "metadata": {
        "colab": {
          "base_uri": "https://localhost:8080/"
        },
        "id": "kFYMV6IxVw_v",
        "outputId": "36cd0f1e-f7ab-4eb7-a6ab-ba920e5e4597"
      },
      "execution_count": null,
      "outputs": [
        {
          "output_type": "execute_result",
          "data": {
            "text/plain": [
              "0.05      0.00\n",
              "0.10      1.00\n",
              "0.15      1.00\n",
              "0.25      3.00\n",
              "0.50     13.00\n",
              "0.75     43.00\n",
              "0.90    112.00\n",
              "0.95    207.00\n",
              "0.99    529.26\n",
              "Name: create_to_launch_days, dtype: float64"
            ]
          },
          "metadata": {},
          "execution_count": 66
        }
      ]
    },
    {
      "cell_type": "code",
      "source": [
        "df =kickstarter_df[ kickstarter_df['create_to_launch_days']<250]"
      ],
      "metadata": {
        "id": "0dX1G4lMWO0V"
      },
      "execution_count": null,
      "outputs": []
    },
    {
      "cell_type": "code",
      "source": [
        "plt.figure(figsize=(10,5),dpi=120)\n",
        "sns.histplot(data=df,x='create_to_launch_days',bins=10,kde=True,hue ='state')"
      ],
      "metadata": {
        "colab": {
          "base_uri": "https://localhost:8080/",
          "height": 366
        },
        "id": "qI-zlCA2tC7N",
        "outputId": "4b7fc222-062c-48e1-a461-f675c5148721"
      },
      "execution_count": null,
      "outputs": [
        {
          "output_type": "execute_result",
          "data": {
            "text/plain": [
              "<matplotlib.axes._subplots.AxesSubplot at 0x7fe8fec9ecd0>"
            ]
          },
          "metadata": {},
          "execution_count": 68
        },
        {
          "output_type": "display_data",
          "data": {
            "text/plain": [
              "<Figure size 1200x600 with 1 Axes>"
            ],
            "image/png": "[encoded data removed]"
          },
          "metadata": {
            "needs_background": "light"
          }
        }
      ]
    },
    {
      "cell_type": "code",
      "source": [
        "kickstarter_df.create_to_deadline.quantile([0.05,0.10,0.15,0.25,0.5,0.75,0.90, 0.95, 0.99])"
      ],
      "metadata": {
        "id": "2Ca0q6-NWwhh"
      },
      "execution_count": null,
      "outputs": []
    },
    {
      "cell_type": "code",
      "source": [
        "df =kickstarter_df[ kickstarter_df['create_to_deadline']<250]"
      ],
      "metadata": {
        "id": "iFF3Cr9vW0x_"
      },
      "execution_count": null,
      "outputs": []
    },
    {
      "cell_type": "code",
      "source": [
        "sns.countplot(data=kickstarter_df,order = kickstarter_df['category'].value_counts().index, x ='category')\n",
        "plt.xticks(rotation = 90)"
      ],
      "metadata": {
        "colab": {
          "base_uri": "https://localhost:8080/",
          "height": 371
        },
        "id": "EUcCy2tNlVoQ",
        "outputId": "d894673f-9cbb-4480-89af-0bfb59319c34"
      },
      "execution_count": null,
      "outputs": [
        {
          "output_type": "execute_result",
          "data": {
            "text/plain": [
              "(array([ 0,  1,  2,  3,  4,  5,  6,  7,  8,  9, 10, 11, 12, 13, 14, 15, 16,\n",
              "        17, 18, 19, 20, 21]), <a list of 22 Text major ticklabel objects>)"
            ]
          },
          "metadata": {},
          "execution_count": 90
        },
        {
          "output_type": "display_data",
          "data": {
            "text/plain": [
              "<Figure size 432x288 with 1 Axes>"
            ],
            "image/png": "[encoded data removed]"
          },
          "metadata": {
            "needs_background": "light"
          }
        }
      ]
    },
    {
      "cell_type": "code",
      "source": [
        "sns.countplot(data=kickstarter_df,order = kickstarter_df['category'].value_counts().index, x ='category', hue = 'state')\n",
        "plt.xticks(rotation = 90)"
      ],
      "metadata": {
        "colab": {
          "base_uri": "https://localhost:8080/",
          "height": 371
        },
        "id": "8CtBTxLRlVcC",
        "outputId": "02775a38-e4b4-4ee2-f202-2a7c837a04cd"
      },
      "execution_count": null,
      "outputs": [
        {
          "output_type": "execute_result",
          "data": {
            "text/plain": [
              "(array([ 0,  1,  2,  3,  4,  5,  6,  7,  8,  9, 10, 11, 12, 13, 14, 15, 16,\n",
              "        17, 18, 19, 20, 21]), <a list of 22 Text major ticklabel objects>)"
            ]
          },
          "metadata": {},
          "execution_count": 91
        },
        {
          "output_type": "display_data",
          "data": {
            "text/plain": [
              "<Figure size 432x288 with 1 Axes>"
            ],
            "image/png": "[encoded data removed]"
          },
          "metadata": {
            "needs_background": "light"
          }
        }
      ]
    },
    {
      "cell_type": "markdown",
      "source": [
        "<h1> Implementation of K-Means Clustering</h1>"
      ],
      "metadata": {
        "id": "M9Q6PDzpW2cS"
      }
    },
    {
      "cell_type": "markdown",
      "source": [
        "How correlated each of the features are with each cluster?"
      ],
      "metadata": {
        "id": "Qd4q1Xp2reuP"
      }
    },
    {
      "cell_type": "code",
      "source": [],
      "metadata": {
        "colab": {
          "base_uri": "https://localhost:8080/",
          "height": 422
        },
        "id": "ys1BClMhrSrx",
        "outputId": "d4678569-e7f6-4016-bc02-24de57eda596"
      },
      "execution_count": 60,
      "outputs": [
        {
          "output_type": "execute_result",
          "data": {
            "text/plain": [
              "<matplotlib.axes._subplots.AxesSubplot at 0x7ff5a0d4c220>"
            ]
          },
          "metadata": {},
          "execution_count": 60
        },
        {
          "output_type": "display_data",
          "data": {
            "text/plain": [
              "<Figure size 432x288 with 1 Axes>"
            ],
            "image/png": "[encoded data removed]"
          },
          "metadata": {
            "needs_background": "light"
          }
        }
      ]
    },
    {
      "cell_type": "markdown",
      "source": [
        "  Methodology for choosing the optimal  K-value"
      ],
      "metadata": {
        "id": "6Yjyxr9nsob4"
      }
    },
    {
      "cell_type": "code",
      "source": [
        "ssd = []\n",
        "for k in range(2,60):\n",
        "  model = KMeans(n_clusters = k)\n",
        "  model.fit(X_std)\n",
        "  ssd.append(model.inertia_)"
      ],
      "metadata": {
        "id": "SfajwK51rRmj"
      },
      "execution_count": 87,
      "outputs": []
    },
    {
      "cell_type": "code",
      "source": [
        "plt.plot(range(2,60),ssd,'o--')\n",
        "plt.xlabel(\"Value of k\")\n",
        "plt.ylabel(\"Model Enertia\")\n",
        "plt.title(\"Variation of the model inertia with k\")"
      ],
      "metadata": {
        "colab": {
          "base_uri": "https://localhost:8080/",
          "height": 312
        },
        "id": "q5jI_awYu2Jp",
        "outputId": "74a60c59-47ec-472b-8fc9-6f609b2fa918"
      },
      "execution_count": 88,
      "outputs": [
        {
          "output_type": "execute_result",
          "data": {
            "text/plain": [
              "Text(0.5, 1.0, 'Variation of the model inertia with k')"
            ]
          },
          "metadata": {},
          "execution_count": 88
        },
        {
          "output_type": "display_data",
          "data": {
            "text/plain": [
              "<Figure size 432x288 with 1 Axes>"
            ],
            "image/png": "[encoded data removed]"
          },
          "metadata": {
            "needs_background": "light"
          }
        }
      ]
    },
    {
      "cell_type": "markdown",
      "source": [
        "Visualising the correlation between the variables and clustera"
      ],
      "metadata": {
        "id": "LMnb2-tJng6S"
      }
    },
    {
      "cell_type": "code",
      "source": [
        "X_std.corr()['cluster'].sort_values().plot(kind='bar')"
      ],
      "metadata": {
        "colab": {
          "base_uri": "https://localhost:8080/",
          "height": 398
        },
        "id": "UEVxvgzenT-8",
        "outputId": "ca6630cb-51ef-436f-d46d-8e7306eb106c"
      },
      "execution_count": 156,
      "outputs": [
        {
          "output_type": "execute_result",
          "data": {
            "text/plain": [
              "<matplotlib.axes._subplots.AxesSubplot at 0x7ff59fed05e0>"
            ]
          },
          "metadata": {},
          "execution_count": 156
        },
        {
          "output_type": "display_data",
          "data": {
            "text/plain": [
              "<Figure size 432x288 with 1 Axes>"
            ],
            "image/png": "[encoded data removed]"
          },
          "metadata": {
            "needs_background": "light"
          }
        }
      ]
    },
    {
      "cell_type": "code",
      "source": [
        " pd.Series(ssd).diff()"
      ],
      "metadata": {
        "colab": {
          "base_uri": "https://localhost:8080/"
        },
        "id": "oRUV7D7IbhCU",
        "outputId": "7c6de661-c912-42e1-e776-8a37bcce0497"
      },
      "execution_count": 89,
      "outputs": [
        {
          "output_type": "execute_result",
          "data": {
            "text/plain": [
              "0             NaN\n",
              "1    -1900.933299\n",
              "2    -1557.184531\n",
              "3    -1091.180532\n",
              "4     -755.899064\n",
              "5     -662.722574\n",
              "6     -472.361294\n",
              "7     -480.387990\n",
              "8     -309.997166\n",
              "9     -290.902059\n",
              "10    -249.746629\n",
              "11    -136.520655\n",
              "12    -258.034043\n",
              "13    -141.942139\n",
              "14    -103.656569\n",
              "15    -130.284048\n",
              "16    -136.875459\n",
              "17     -87.843483\n",
              "18     -51.715638\n",
              "19     -88.860686\n",
              "20     -64.185883\n",
              "21      -8.972633\n",
              "22     -52.421453\n",
              "23     -44.296336\n",
              "24      -9.032926\n",
              "25     -34.548791\n",
              "26     -26.762831\n",
              "27     -16.194839\n",
              "28     -26.602387\n",
              "29       4.412566\n",
              "30     -34.012370\n",
              "31     -20.347617\n",
              "32      -9.789726\n",
              "33     -21.394235\n",
              "34      -7.573221\n",
              "35       0.031537\n",
              "36     -37.310485\n",
              "37      -6.172360\n",
              "38     -32.813075\n",
              "39      14.894195\n",
              "40     -22.687935\n",
              "41      -9.925948\n",
              "42     -12.579360\n",
              "43     -13.854748\n",
              "44      -5.665533\n",
              "45     -12.061594\n",
              "46     -11.709978\n",
              "47      -7.590328\n",
              "48     -11.046957\n",
              "49     -17.839566\n",
              "50      -2.541564\n",
              "51      -9.487323\n",
              "52      -4.767260\n",
              "53      -3.256009\n",
              "54     -23.648650\n",
              "55      -1.043105\n",
              "56     -18.602273\n",
              "57      -5.503077\n",
              "dtype: float64"
            ]
          },
          "metadata": {},
          "execution_count": 89
        }
      ]
    },
    {
      "cell_type": "code",
      "source": [
        "s = pd.Series(ssd).diff()   #Calculate the difference between the two rows\n",
        "plt.plot(s.index, s.values)\n",
        "cluster_labels = model.fit_predict(X_std)"
      ],
      "metadata": {
        "colab": {
          "base_uri": "https://localhost:8080/",
          "height": 265
        },
        "id": "S3W5pP-9vVQn",
        "outputId": "17809845-89f5-494f-f38c-cfd34c94843f"
      },
      "execution_count": 90,
      "outputs": [
        {
          "output_type": "display_data",
          "data": {
            "text/plain": [
              "<Figure size 432x288 with 1 Axes>"
            ],
            "image/png": "[encoded data removed]"
          },
          "metadata": {
            "needs_background": "light"
          }
        }
      ]
    },
    {
      "cell_type": "code",
      "source": [
        "from sklearn.cluster import KMeans\n",
        "model = KMeans(n_clusters=21)\n",
        "cluster_labels = model.fit_predict(X_std)\n",
        "X_std['cluster'] = cluster_labels"
      ],
      "metadata": {
        "id": "_k8iw5aKfOaJ"
      },
      "execution_count": 140,
      "outputs": []
    },
    {
      "cell_type": "code",
      "source": [
        "X_std['cluster'] = cluster_labels"
      ],
      "metadata": {
        "id": "RLK3Ty96fsfa"
      },
      "execution_count": 141,
      "outputs": []
    },
    {
      "cell_type": "code",
      "source": [
        "X_std['state'] = X['state_successful']"
      ],
      "metadata": {
        "id": "M_GzdTh6fXaH"
      },
      "execution_count": 142,
      "outputs": []
    },
    {
      "cell_type": "code",
      "source": [
        "#for (k = 14)\n",
        "fail_list = []\n",
        "success_list=[]\n",
        "print(\"Cluster_label\",'\\t\\t\\t',\"Failure %\",'\\t\\t\\t',\"Success %\")\n",
        "for i in range (max(cluster_labels)):\n",
        "  df = X_std[X_std['cluster']==i]\n",
        "  df_0 = df[df['state']==0.0]\n",
        "  fail = len(df_0)\n",
        "  fail_list.append(fail)\n",
        "  df_1 = df[df['state']==1.0]\n",
        "  success = len(df_1)\n",
        "  success_list.append(success)\n",
        "  df_1 = len(df_1)\n",
        "  fail_percent = fail*100/(fail+success)\n",
        "  success_percent = success*100/(fail+success)\n",
        "  print(i,'\\t\\t\\t\\t',round(fail_percent,2),'\\t\\t\\t\\t',round(success_percent,3))"
      ],
      "metadata": {
        "colab": {
          "base_uri": "https://localhost:8080/"
        },
        "id": "U0EGDm_kfgto",
        "outputId": "4039439a-796a-43fc-8639-450ff767c3fd"
      },
      "execution_count": 143,
      "outputs": [
        {
          "output_type": "stream",
          "name": "stdout",
          "text": [
            "Cluster_label \t\t\t Failure % \t\t\t Success %\n",
            "0 \t\t\t\t 71.22 \t\t\t\t 28.777\n",
            "1 \t\t\t\t 71.74 \t\t\t\t 28.261\n",
            "2 \t\t\t\t 71.12 \t\t\t\t 28.877\n",
            "3 \t\t\t\t 67.57 \t\t\t\t 32.432\n",
            "4 \t\t\t\t 72.42 \t\t\t\t 27.582\n",
            "5 \t\t\t\t 73.19 \t\t\t\t 26.807\n",
            "6 \t\t\t\t 66.67 \t\t\t\t 33.333\n",
            "7 \t\t\t\t 71.91 \t\t\t\t 28.093\n",
            "8 \t\t\t\t 69.16 \t\t\t\t 30.841\n",
            "9 \t\t\t\t 68.45 \t\t\t\t 31.553\n",
            "10 \t\t\t\t 77.6 \t\t\t\t 22.396\n",
            "11 \t\t\t\t 70.35 \t\t\t\t 29.65\n",
            "12 \t\t\t\t 69.32 \t\t\t\t 30.682\n",
            "13 \t\t\t\t 69.61 \t\t\t\t 30.395\n",
            "14 \t\t\t\t 67.84 \t\t\t\t 32.164\n",
            "15 \t\t\t\t 71.03 \t\t\t\t 28.966\n",
            "16 \t\t\t\t 71.73 \t\t\t\t 28.266\n",
            "17 \t\t\t\t 70.21 \t\t\t\t 29.787\n",
            "18 \t\t\t\t 70.57 \t\t\t\t 29.433\n",
            "19 \t\t\t\t 68.25 \t\t\t\t 31.753\n"
          ]
        }
      ]
    },
    {
      "cell_type": "markdown",
      "source": [
        "There are certian clusters in which the success percent is less than other clusters such as cluster 5,10 There are certain clusters such as cluster 6, cluster 3 which have comparitively larger success percentage. Since only the variables that are available at the time of project creation are used in clustering, this method can be effective in the prediction of the success or failure of the project based on the cluster it is assigned.\n",
        "\n",
        "For example, if we get the intital variables before the project start and the cluster assigned to the project is cluster 10, we can infere that the project is less likely to succeed."
      ],
      "metadata": {
        "id": "tmPmVESCg18N"
      }
    },
    {
      "cell_type": "code",
      "source": [
        "X_std1 = X_std1.drop(['cluster','state_successful'],axis=1)"
      ],
      "metadata": {
        "id": "QciqGXuXj-8d"
      },
      "execution_count": 151,
      "outputs": []
    },
    {
      "cell_type": "code",
      "source": [
        "pd.set_option('display.max_columns', 500)\n",
        "cluster_centers = pd.DataFrame(model.cluster_centers_, columns=X_std1.columns)\n",
        "cluster_centers"
      ],
      "metadata": {
        "colab": {
          "base_uri": "https://localhost:8080/",
          "height": 772
        },
        "id": "MtRtnyFaf1J4",
        "outputId": "7edfe565-b989-4ab3-cbf6-5c4bfb41c84b"
      },
      "execution_count": 153,
      "outputs": [
        {
          "output_type": "execute_result",
          "data": {
            "text/plain": [
              "        goal  static_usd_rate  name_len  name_len_clean  blurb_len  \\\n",
              "0   0.000106         0.595355  0.273783        0.262748   0.538830   \n",
              "1   0.000719         0.580679  0.451752        0.439769   0.552013   \n",
              "2   0.000798         0.577381  0.431405        0.418150   0.545120   \n",
              "3   0.000308         0.573389  0.495212        0.470502   0.563128   \n",
              "4   0.001392         0.569519  0.198754        0.204968   0.498351   \n",
              "5   0.000072         0.648436  0.309230        0.300437   0.551888   \n",
              "6   0.001704         0.566164  0.347863        0.351578   0.519985   \n",
              "7   0.000591         0.566328  0.360504        0.363817   0.527131   \n",
              "8   0.000321         0.613237  0.331265        0.333099   0.550612   \n",
              "9   0.000493         0.589449  0.352632        0.361481   0.523552   \n",
              "10  0.000917         0.582254  0.311201        0.311429   0.528221   \n",
              "11  0.001217         0.581495  0.141143        0.144917   0.483712   \n",
              "12  0.000119         0.675369  0.314724        0.309108   0.549621   \n",
              "13  0.000839         0.582832  0.492148        0.490385   0.546604   \n",
              "14  0.000305         0.613091  0.268142        0.266167   0.539172   \n",
              "15  0.002405         0.631215  0.271930        0.272874   0.562848   \n",
              "16  0.001671         0.575088  0.100226        0.103781   0.507702   \n",
              "17  0.001441         0.573037  0.331034        0.319629   0.550710   \n",
              "18  0.000349         0.594391  0.126899        0.133223   0.521842   \n",
              "19  0.000613         0.565237  0.364684        0.370826   0.537214   \n",
              "20  0.002114         0.557130  0.318635        0.308904   0.528485   \n",
              "\n",
              "    blurb_len_clean  goal_usd  create_to_launch_days  launch_to_deadline_days  \\\n",
              "0          0.391709  0.000110               0.019689                 0.366479   \n",
              "1          0.430610  0.000662               0.031438                 0.388541   \n",
              "2          0.423589  0.000657               0.027797                 0.373588   \n",
              "3          0.427904  0.000280               0.027677                 0.370973   \n",
              "4          0.389766  0.001491               0.037544                 0.382970   \n",
              "5          0.434600  0.000074               0.020056                 0.334086   \n",
              "6          0.405836  0.001711               0.032519                 0.382692   \n",
              "7          0.414204  0.000572               0.040459                 0.375326   \n",
              "8          0.440410  0.000345               0.023754                 0.346634   \n",
              "9          0.421182  0.000493               0.040327                 0.365497   \n",
              "10         0.416725  0.000856               0.028518                 0.359874   \n",
              "11         0.370644  0.001206               0.024609                 0.385777   \n",
              "12         0.440872  0.000120               0.022868                 0.335106   \n",
              "13         0.441623  0.000739               0.049366                 0.376437   \n",
              "14         0.431034  0.000305               0.011288                 0.333235   \n",
              "15         0.437205  0.002427               0.019213                 0.330000   \n",
              "16         0.384600  0.001651               0.017204                 0.385339   \n",
              "17         0.435493  0.001437               0.017665                 0.379310   \n",
              "18         0.393640  0.000354               0.022757                 0.374799   \n",
              "19         0.422109  0.000570               0.039416                 0.386692   \n",
              "20         0.429813  0.002097               0.033228                 0.382327   \n",
              "\n",
              "    create_to_deadline  category_Apps  category_Blues  category_Experimental  \\\n",
              "0             0.040506   4.163336e-17    5.617978e-02          -3.469447e-18   \n",
              "1             0.053311  -4.024558e-16    8.673617e-19           2.185752e-16   \n",
              "2             0.048874  -3.608225e-16    8.673617e-19           2.359224e-16   \n",
              "3             0.048605   1.000000e+00    8.673617e-19          -1.040834e-17   \n",
              "4             0.058981   6.245005e-17   -4.336809e-18           2.359224e-16   \n",
              "5             0.038994  -5.412337e-16    9.757820e-19           2.046974e-16   \n",
              "6             0.054034  -8.326673e-17    8.673617e-19          -6.938894e-18   \n",
              "7             0.061400  -3.608225e-16    9.757820e-19           8.673617e-17   \n",
              "8             0.043348  -3.955170e-16    7.589415e-19           8.673617e-17   \n",
              "9             0.060703  -2.081668e-17    7.589415e-19          -6.938894e-18   \n",
              "10            0.048788  -6.938894e-18    7.589415e-19          -1.040834e-17   \n",
              "11            0.046450  -4.857226e-16    8.673617e-19           2.289835e-16   \n",
              "12            0.041812  -1.179612e-16    7.589415e-19          -6.938894e-18   \n",
              "13            0.070206   5.134781e-16   -1.409463e-17           1.457168e-16   \n",
              "14            0.030340   4.163336e-17    7.589415e-19           1.000000e+00   \n",
              "15            0.037931   4.857226e-17    6.505213e-19          -6.938894e-18   \n",
              "16            0.039158   2.081668e-17   -5.204170e-18           2.706169e-16   \n",
              "17            0.039261   3.469447e-17    5.421011e-19          -6.938894e-18   \n",
              "18            0.043997   1.000000e+00    7.589415e-19          -1.040834e-17   \n",
              "19            0.061034   2.359224e-16   -8.782038e-18           2.810252e-16   \n",
              "20            0.054708   4.163336e-17    5.421011e-19          -6.938894e-18   \n",
              "\n",
              "    category_Festivals  category_Flight  category_Gadgets  category_Hardware  \\\n",
              "0         6.245005e-17     2.775558e-17      0.000000e+00       2.220446e-16   \n",
              "1        -1.942890e-16     3.816392e-17     -7.216450e-16      -8.326673e-16   \n",
              "2        -2.046974e-16     3.816392e-17     -7.632783e-16      -9.159340e-16   \n",
              "3         3.469447e-18     3.469447e-17     -2.775558e-17       5.551115e-16   \n",
              "4        -2.012279e-16     4.163336e-17     -2.220446e-16       1.000000e+00   \n",
              "5        -1.804112e-16     4.163336e-17     -6.661338e-16      -7.494005e-16   \n",
              "6         6.591949e-17     3.469447e-17      1.526557e-16       7.771561e-16   \n",
              "7        -8.326673e-17     3.816392e-17     -3.330669e-16      -5.551115e-17   \n",
              "8        -1.040834e-16     3.469447e-17     -4.024558e-16      -2.220446e-16   \n",
              "9         6.938894e-17     3.122502e-17      1.526557e-16       6.106227e-16   \n",
              "10        7.632783e-17     1.000000e+00      1.110223e-16       4.996004e-16   \n",
              "11       -2.046974e-16     3.816392e-17     -7.494005e-16      -9.159340e-16   \n",
              "12        1.000000e+00     3.469447e-17      4.163336e-17       5.828671e-16   \n",
              "13       -2.393918e-16    -2.046974e-16      9.298118e-16       1.000000e+00   \n",
              "14        7.285839e-17     3.122502e-17      6.938894e-17       4.163336e-16   \n",
              "15        6.591949e-17     2.775558e-17     -1.387779e-17       1.942890e-16   \n",
              "16       -2.255141e-16     3.816392e-17     -1.665335e-16      -1.082467e-15   \n",
              "17        3.469447e-17     1.734723e-17     -5.551115e-17      -5.551115e-17   \n",
              "18        0.000000e+00     3.469447e-17     -4.163336e-17       5.273559e-16   \n",
              "19       -2.289835e-16    -1.734723e-17      1.000000e+00      -1.137979e-15   \n",
              "20        4.510281e-17     2.081668e-17     -1.387779e-17       2.775558e-17   \n",
              "\n",
              "    category_Immersive  category_Makerspaces  category_Musical  \\\n",
              "0        -1.908196e-17          6.938894e-18     -1.387779e-17   \n",
              "1         1.908196e-17         -1.214306e-17     -1.457168e-16   \n",
              "2         3.469447e-17         -1.734723e-17     -2.081668e-16   \n",
              "3        -2.602085e-17          1.734723e-17      1.526557e-16   \n",
              "4         1.405126e-16          3.816392e-17     -3.677614e-16   \n",
              "5        -3.295975e-17         -4.683753e-17      6.938894e-18   \n",
              "6        -2.428613e-17          1.734723e-17      1.179612e-16   \n",
              "7        -2.775558e-17         -3.469447e-17      2.012279e-16   \n",
              "8        -2.949030e-17         -4.510281e-17      1.000000e+00   \n",
              "9        -2.255141e-17          1.561251e-17      7.632783e-17   \n",
              "10       -2.255141e-17          1.387779e-17      4.857226e-17   \n",
              "11        3.469447e-18         -2.602085e-17     -1.665335e-16   \n",
              "12       -2.602085e-17          1.734723e-17      1.179612e-16   \n",
              "13        2.671474e-16          6.418477e-17     -5.620504e-16   \n",
              "14       -2.081668e-17          1.214306e-17      2.775558e-17   \n",
              "15        1.000000e+00          8.673617e-18     -1.387779e-17   \n",
              "16        1.387779e-16          3.122502e-17     -4.163336e-16   \n",
              "17       -8.673617e-18         -5.204170e-18     -4.857226e-17   \n",
              "18       -2.775558e-17          1.734723e-17      1.526557e-16   \n",
              "19        1.925543e-16          4.336809e-17     -4.718448e-16   \n",
              "20       -1.214306e-17          1.000000e+00     -4.857226e-17   \n",
              "\n",
              "    category_Places  category_Plays  category_Robots  category_Shorts  \\\n",
              "0      4.719101e-01    1.387779e-16     3.816392e-17     2.134831e-01   \n",
              "1      6.505213e-17   -6.383782e-16     4.857226e-17    -2.038300e-17   \n",
              "2      7.546047e-17   -7.216450e-16     8.326673e-17    -2.602085e-17   \n",
              "3     -1.127570e-17    1.665335e-16    -1.387779e-17     6.071532e-18   \n",
              "4      8.239937e-17   -7.077672e-16    -1.040834e-17    -3.209238e-17   \n",
              "5      5.377643e-17    1.000000e+00     1.387779e-17    -1.387779e-17   \n",
              "6     -1.040834e-17    1.665335e-16     1.000000e+00     4.336809e-18   \n",
              "7      2.602085e-18   -1.110223e-16    -8.673617e-17     8.239937e-18   \n",
              "8     -2.602085e-18   -6.938894e-17    -1.214306e-16     8.673617e-18   \n",
              "9     -1.040834e-17    1.526557e-16     5.204170e-17     2.602085e-18   \n",
              "10    -1.127570e-17    1.526557e-16     4.510281e-17     1.301043e-18   \n",
              "11     7.112366e-17   -6.938894e-16     6.938894e-17    -2.428613e-17   \n",
              "12    -1.127570e-17    1.665335e-16     1.387779e-17     4.336809e-18   \n",
              "13     1.162265e-16   -7.632783e-16    -2.393918e-16    -4.683753e-17   \n",
              "14    -1.040834e-17    1.526557e-16     4.510281e-17     0.000000e+00   \n",
              "15    -1.040834e-17    1.387779e-16     3.816392e-17    -2.602085e-18   \n",
              "16     9.974660e-17   -8.743006e-16    -1.040834e-17    -3.816392e-17   \n",
              "17    -8.673617e-18    9.714451e-17     1.387779e-17    -3.469447e-18   \n",
              "18    -1.127570e-17    1.665335e-16    -1.734723e-17     6.071532e-18   \n",
              "19     1.058181e-16   -9.020562e-16    -1.110223e-16    -4.119968e-17   \n",
              "20    -8.673617e-18    1.110223e-16     2.428613e-17    -2.602085e-18   \n",
              "\n",
              "    category_Software  category_Sound  category_Spaces  category_Thrillers  \\\n",
              "0       -1.942890e-16    2.081668e-17     1.040834e-17        7.303371e-02   \n",
              "1        1.000000e+00   -9.020562e-17     2.949030e-17       -4.336809e-18   \n",
              "2        5.551115e-16   -1.006140e-16     2.949030e-17       -5.421011e-18   \n",
              "3       -4.718448e-16    9.367507e-17     2.255141e-17        3.469447e-18   \n",
              "4        1.443290e-15   -1.006140e-16     2.949030e-17       -5.421011e-18   \n",
              "5       -1.665335e-16   -7.632783e-17     2.949030e-17       -3.469447e-18   \n",
              "6       -4.163336e-16    8.673617e-17     2.081668e-17        2.168404e-18   \n",
              "7       -5.273559e-16    1.734723e-17     2.602085e-17        1.301043e-18   \n",
              "8       -5.273559e-16   -3.469447e-18     2.775558e-17        2.385245e-18   \n",
              "9       -3.608225e-16    1.000000e+00     1.908196e-17        6.505213e-19   \n",
              "10      -3.608225e-16    5.204170e-17     1.734723e-17        2.168404e-19   \n",
              "11       1.000000e+00   -9.714451e-17     2.775558e-17       -5.204170e-18   \n",
              "12      -4.440892e-16    8.673617e-17     2.081668e-17        2.385245e-18   \n",
              "13       2.192690e-15   -1.353084e-16     3.122502e-17       -4.770490e-18   \n",
              "14      -3.053113e-16    3.816392e-17     1.561251e-17       -4.336809e-19   \n",
              "15      -2.220446e-16    2.081668e-17     1.214306e-17       -1.301043e-18   \n",
              "16       1.360023e-15   -1.214306e-16     3.122502e-17       -7.155734e-18   \n",
              "17       2.775558e-17   -3.469447e-18     1.000000e+00       -1.084202e-18   \n",
              "18      -4.718448e-16    1.006140e-16     2.255141e-17        3.686287e-18   \n",
              "19       1.665335e-15   -1.249001e-16     3.122502e-17       -7.589415e-18   \n",
              "20      -1.387779e-16   -3.469447e-18     6.938894e-18       -8.673617e-19   \n",
              "\n",
              "    category_Wearables  category_Web  category_Webseries  \n",
              "0         2.081668e-17  1.387779e-16        1.011236e-01  \n",
              "1         3.261280e-16  4.163336e-16        1.040834e-17  \n",
              "2         3.330669e-16  1.000000e+00        1.040834e-17  \n",
              "3         1.942890e-16  3.053113e-16        6.722053e-18  \n",
              "4         3.330669e-16  4.163336e-16        1.040834e-17  \n",
              "5         3.191891e-16  4.163336e-16        1.019150e-17  \n",
              "6         1.526557e-16  3.053113e-16        5.637851e-18  \n",
              "7         1.000000e+00  3.885781e-16        8.456777e-18  \n",
              "8         2.706169e-16  3.885781e-16        8.890458e-18  \n",
              "9         1.040834e-16  2.775558e-16        4.336809e-18  \n",
              "10        7.632783e-17  2.498002e-16        3.469447e-18  \n",
              "11        3.261280e-16  3.885781e-16        1.019150e-17  \n",
              "12        1.595946e-16  2.775558e-16        5.854692e-18  \n",
              "13        3.608225e-16  4.163336e-16        1.105886e-17  \n",
              "14        5.551115e-17  2.220446e-16        2.818926e-18  \n",
              "15        2.081668e-17  1.665335e-16        1.301043e-18  \n",
              "16        3.538836e-16  1.000000e+00        1.084202e-17  \n",
              "17       -1.387779e-17 -2.775558e-17       -6.505213e-19  \n",
              "18        1.942890e-16  3.053113e-16        6.722053e-18  \n",
              "19        3.538836e-16  4.163336e-16        1.084202e-17  \n",
              "20       -1.387779e-17  8.326673e-17       -2.168404e-19  "
            ],
            "text/html": [
              "\n",
              "  <div id=\"df-fe48a663-2577-43b1-bdd7-db8b824c1d0c\">\n",
              "    <div class=\"colab-df-container\">\n",
              "      <div>\n",
              "<style scoped>\n",
              "    .dataframe tbody tr th:only-of-type {\n",
              "        vertical-align: middle;\n",
              "    }\n",
              "\n",
              "    .dataframe tbody tr th {\n",
              "        vertical-align: top;\n",
              "    }\n",
              "\n",
              "    .dataframe thead th {\n",
              "        text-align: right;\n",
              "    }\n",
              "</style>\n",
              "<table border=\"1\" class=\"dataframe\">\n",
              "  <thead>\n",
              "    <tr style=\"text-align: right;\">\n",
              "      <th></th>\n",
              "      <th>goal</th>\n",
              "      <th>static_usd_rate</th>\n",
              "      <th>name_len</th>\n",
              "      <th>name_len_clean</th>\n",
              "      <th>blurb_len</th>\n",
              "      <th>blurb_len_clean</th>\n",
              "      <th>goal_usd</th>\n",
              "      <th>create_to_launch_days</th>\n",
              "      <th>launch_to_deadline_days</th>\n",
              "      <th>create_to_deadline</th>\n",
              "      <th>category_Apps</th>\n",
              "      <th>category_Blues</th>\n",
              "      <th>category_Experimental</th>\n",
              "      <th>category_Festivals</th>\n",
              "      <th>category_Flight</th>\n",
              "      <th>category_Gadgets</th>\n",
              "      <th>category_Hardware</th>\n",
              "      <th>category_Immersive</th>\n",
              "      <th>category_Makerspaces</th>\n",
              "      <th>category_Musical</th>\n",
              "      <th>category_Places</th>\n",
              "      <th>category_Plays</th>\n",
              "      <th>category_Robots</th>\n",
              "      <th>category_Shorts</th>\n",
              "      <th>category_Software</th>\n",
              "      <th>category_Sound</th>\n",
              "      <th>category_Spaces</th>\n",
              "      <th>category_Thrillers</th>\n",
              "      <th>category_Wearables</th>\n",
              "      <th>category_Web</th>\n",
              "      <th>category_Webseries</th>\n",
              "    </tr>\n",
              "  </thead>\n",
              "  <tbody>\n",
              "    <tr>\n",
              "      <th>0</th>\n",
              "      <td>0.000106</td>\n",
              "      <td>0.595355</td>\n",
              "      <td>0.273783</td>\n",
              "      <td>0.262748</td>\n",
              "      <td>0.538830</td>\n",
              "      <td>0.391709</td>\n",
              "      <td>0.000110</td>\n",
              "      <td>0.019689</td>\n",
              "      <td>0.366479</td>\n",
              "      <td>0.040506</td>\n",
              "      <td>4.163336e-17</td>\n",
              "      <td>5.617978e-02</td>\n",
              "      <td>-3.469447e-18</td>\n",
              "      <td>6.245005e-17</td>\n",
              "      <td>2.775558e-17</td>\n",
              "      <td>0.000000e+00</td>\n",
              "      <td>2.220446e-16</td>\n",
              "      <td>-1.908196e-17</td>\n",
              "      <td>6.938894e-18</td>\n",
              "      <td>-1.387779e-17</td>\n",
              "      <td>4.719101e-01</td>\n",
              "      <td>1.387779e-16</td>\n",
              "      <td>3.816392e-17</td>\n",
              "      <td>2.134831e-01</td>\n",
              "      <td>-1.942890e-16</td>\n",
              "      <td>2.081668e-17</td>\n",
              "      <td>1.040834e-17</td>\n",
              "      <td>7.303371e-02</td>\n",
              "      <td>2.081668e-17</td>\n",
              "      <td>1.387779e-16</td>\n",
              "      <td>1.011236e-01</td>\n",
              "    </tr>\n",
              "    <tr>\n",
              "      <th>1</th>\n",
              "      <td>0.000719</td>\n",
              "      <td>0.580679</td>\n",
              "      <td>0.451752</td>\n",
              "      <td>0.439769</td>\n",
              "      <td>0.552013</td>\n",
              "      <td>0.430610</td>\n",
              "      <td>0.000662</td>\n",
              "      <td>0.031438</td>\n",
              "      <td>0.388541</td>\n",
              "      <td>0.053311</td>\n",
              "      <td>-4.024558e-16</td>\n",
              "      <td>8.673617e-19</td>\n",
              "      <td>2.185752e-16</td>\n",
              "      <td>-1.942890e-16</td>\n",
              "      <td>3.816392e-17</td>\n",
              "      <td>-7.216450e-16</td>\n",
              "      <td>-8.326673e-16</td>\n",
              "      <td>1.908196e-17</td>\n",
              "      <td>-1.214306e-17</td>\n",
              "      <td>-1.457168e-16</td>\n",
              "      <td>6.505213e-17</td>\n",
              "      <td>-6.383782e-16</td>\n",
              "      <td>4.857226e-17</td>\n",
              "      <td>-2.038300e-17</td>\n",
              "      <td>1.000000e+00</td>\n",
              "      <td>-9.020562e-17</td>\n",
              "      <td>2.949030e-17</td>\n",
              "      <td>-4.336809e-18</td>\n",
              "      <td>3.261280e-16</td>\n",
              "      <td>4.163336e-16</td>\n",
              "      <td>1.040834e-17</td>\n",
              "    </tr>\n",
              "    <tr>\n",
              "      <th>2</th>\n",
              "      <td>0.000798</td>\n",
              "      <td>0.577381</td>\n",
              "      <td>0.431405</td>\n",
              "      <td>0.418150</td>\n",
              "      <td>0.545120</td>\n",
              "      <td>0.423589</td>\n",
              "      <td>0.000657</td>\n",
              "      <td>0.027797</td>\n",
              "      <td>0.373588</td>\n",
              "      <td>0.048874</td>\n",
              "      <td>-3.608225e-16</td>\n",
              "      <td>8.673617e-19</td>\n",
              "      <td>2.359224e-16</td>\n",
              "      <td>-2.046974e-16</td>\n",
              "      <td>3.816392e-17</td>\n",
              "      <td>-7.632783e-16</td>\n",
              "      <td>-9.159340e-16</td>\n",
              "      <td>3.469447e-17</td>\n",
              "      <td>-1.734723e-17</td>\n",
              "      <td>-2.081668e-16</td>\n",
              "      <td>7.546047e-17</td>\n",
              "      <td>-7.216450e-16</td>\n",
              "      <td>8.326673e-17</td>\n",
              "      <td>-2.602085e-17</td>\n",
              "      <td>5.551115e-16</td>\n",
              "      <td>-1.006140e-16</td>\n",
              "      <td>2.949030e-17</td>\n",
              "      <td>-5.421011e-18</td>\n",
              "      <td>3.330669e-16</td>\n",
              "      <td>1.000000e+00</td>\n",
              "      <td>1.040834e-17</td>\n",
              "    </tr>\n",
              "    <tr>\n",
              "      <th>3</th>\n",
              "      <td>0.000308</td>\n",
              "      <td>0.573389</td>\n",
              "      <td>0.495212</td>\n",
              "      <td>0.470502</td>\n",
              "      <td>0.563128</td>\n",
              "      <td>0.427904</td>\n",
              "      <td>0.000280</td>\n",
              "      <td>0.027677</td>\n",
              "      <td>0.370973</td>\n",
              "      <td>0.048605</td>\n",
              "      <td>1.000000e+00</td>\n",
              "      <td>8.673617e-19</td>\n",
              "      <td>-1.040834e-17</td>\n",
              "      <td>3.469447e-18</td>\n",
              "      <td>3.469447e-17</td>\n",
              "      <td>-2.775558e-17</td>\n",
              "      <td>5.551115e-16</td>\n",
              "      <td>-2.602085e-17</td>\n",
              "      <td>1.734723e-17</td>\n",
              "      <td>1.526557e-16</td>\n",
              "      <td>-1.127570e-17</td>\n",
              "      <td>1.665335e-16</td>\n",
              "      <td>-1.387779e-17</td>\n",
              "      <td>6.071532e-18</td>\n",
              "      <td>-4.718448e-16</td>\n",
              "      <td>9.367507e-17</td>\n",
              "      <td>2.255141e-17</td>\n",
              "      <td>3.469447e-18</td>\n",
              "      <td>1.942890e-16</td>\n",
              "      <td>3.053113e-16</td>\n",
              "      <td>6.722053e-18</td>\n",
              "    </tr>\n",
              "    <tr>\n",
              "      <th>4</th>\n",
              "      <td>0.001392</td>\n",
              "      <td>0.569519</td>\n",
              "      <td>0.198754</td>\n",
              "      <td>0.204968</td>\n",
              "      <td>0.498351</td>\n",
              "      <td>0.389766</td>\n",
              "      <td>0.001491</td>\n",
              "      <td>0.037544</td>\n",
              "      <td>0.382970</td>\n",
              "      <td>0.058981</td>\n",
              "      <td>6.245005e-17</td>\n",
              "      <td>-4.336809e-18</td>\n",
              "      <td>2.359224e-16</td>\n",
              "      <td>-2.012279e-16</td>\n",
              "      <td>4.163336e-17</td>\n",
              "      <td>-2.220446e-16</td>\n",
              "      <td>1.000000e+00</td>\n",
              "      <td>1.405126e-16</td>\n",
              "      <td>3.816392e-17</td>\n",
              "      <td>-3.677614e-16</td>\n",
              "      <td>8.239937e-17</td>\n",
              "      <td>-7.077672e-16</td>\n",
              "      <td>-1.040834e-17</td>\n",
              "      <td>-3.209238e-17</td>\n",
              "      <td>1.443290e-15</td>\n",
              "      <td>-1.006140e-16</td>\n",
              "      <td>2.949030e-17</td>\n",
              "      <td>-5.421011e-18</td>\n",
              "      <td>3.330669e-16</td>\n",
              "      <td>4.163336e-16</td>\n",
              "      <td>1.040834e-17</td>\n",
              "    </tr>\n",
              "    <tr>\n",
              "      <th>5</th>\n",
              "      <td>0.000072</td>\n",
              "      <td>0.648436</td>\n",
              "      <td>0.309230</td>\n",
              "      <td>0.300437</td>\n",
              "      <td>0.551888</td>\n",
              "      <td>0.434600</td>\n",
              "      <td>0.000074</td>\n",
              "      <td>0.020056</td>\n",
              "      <td>0.334086</td>\n",
              "      <td>0.038994</td>\n",
              "      <td>-5.412337e-16</td>\n",
              "      <td>9.757820e-19</td>\n",
              "      <td>2.046974e-16</td>\n",
              "      <td>-1.804112e-16</td>\n",
              "      <td>4.163336e-17</td>\n",
              "      <td>-6.661338e-16</td>\n",
              "      <td>-7.494005e-16</td>\n",
              "      <td>-3.295975e-17</td>\n",
              "      <td>-4.683753e-17</td>\n",
              "      <td>6.938894e-18</td>\n",
              "      <td>5.377643e-17</td>\n",
              "      <td>1.000000e+00</td>\n",
              "      <td>1.387779e-17</td>\n",
              "      <td>-1.387779e-17</td>\n",
              "      <td>-1.665335e-16</td>\n",
              "      <td>-7.632783e-17</td>\n",
              "      <td>2.949030e-17</td>\n",
              "      <td>-3.469447e-18</td>\n",
              "      <td>3.191891e-16</td>\n",
              "      <td>4.163336e-16</td>\n",
              "      <td>1.019150e-17</td>\n",
              "    </tr>\n",
              "    <tr>\n",
              "      <th>6</th>\n",
              "      <td>0.001704</td>\n",
              "      <td>0.566164</td>\n",
              "      <td>0.347863</td>\n",
              "      <td>0.351578</td>\n",
              "      <td>0.519985</td>\n",
              "      <td>0.405836</td>\n",
              "      <td>0.001711</td>\n",
              "      <td>0.032519</td>\n",
              "      <td>0.382692</td>\n",
              "      <td>0.054034</td>\n",
              "      <td>-8.326673e-17</td>\n",
              "      <td>8.673617e-19</td>\n",
              "      <td>-6.938894e-18</td>\n",
              "      <td>6.591949e-17</td>\n",
              "      <td>3.469447e-17</td>\n",
              "      <td>1.526557e-16</td>\n",
              "      <td>7.771561e-16</td>\n",
              "      <td>-2.428613e-17</td>\n",
              "      <td>1.734723e-17</td>\n",
              "      <td>1.179612e-16</td>\n",
              "      <td>-1.040834e-17</td>\n",
              "      <td>1.665335e-16</td>\n",
              "      <td>1.000000e+00</td>\n",
              "      <td>4.336809e-18</td>\n",
              "      <td>-4.163336e-16</td>\n",
              "      <td>8.673617e-17</td>\n",
              "      <td>2.081668e-17</td>\n",
              "      <td>2.168404e-18</td>\n",
              "      <td>1.526557e-16</td>\n",
              "      <td>3.053113e-16</td>\n",
              "      <td>5.637851e-18</td>\n",
              "    </tr>\n",
              "    <tr>\n",
              "      <th>7</th>\n",
              "      <td>0.000591</td>\n",
              "      <td>0.566328</td>\n",
              "      <td>0.360504</td>\n",
              "      <td>0.363817</td>\n",
              "      <td>0.527131</td>\n",
              "      <td>0.414204</td>\n",
              "      <td>0.000572</td>\n",
              "      <td>0.040459</td>\n",
              "      <td>0.375326</td>\n",
              "      <td>0.061400</td>\n",
              "      <td>-3.608225e-16</td>\n",
              "      <td>9.757820e-19</td>\n",
              "      <td>8.673617e-17</td>\n",
              "      <td>-8.326673e-17</td>\n",
              "      <td>3.816392e-17</td>\n",
              "      <td>-3.330669e-16</td>\n",
              "      <td>-5.551115e-17</td>\n",
              "      <td>-2.775558e-17</td>\n",
              "      <td>-3.469447e-17</td>\n",
              "      <td>2.012279e-16</td>\n",
              "      <td>2.602085e-18</td>\n",
              "      <td>-1.110223e-16</td>\n",
              "      <td>-8.673617e-17</td>\n",
              "      <td>8.239937e-18</td>\n",
              "      <td>-5.273559e-16</td>\n",
              "      <td>1.734723e-17</td>\n",
              "      <td>2.602085e-17</td>\n",
              "      <td>1.301043e-18</td>\n",
              "      <td>1.000000e+00</td>\n",
              "      <td>3.885781e-16</td>\n",
              "      <td>8.456777e-18</td>\n",
              "    </tr>\n",
              "    <tr>\n",
              "      <th>8</th>\n",
              "      <td>0.000321</td>\n",
              "      <td>0.613237</td>\n",
              "      <td>0.331265</td>\n",
              "      <td>0.333099</td>\n",
              "      <td>0.550612</td>\n",
              "      <td>0.440410</td>\n",
              "      <td>0.000345</td>\n",
              "      <td>0.023754</td>\n",
              "      <td>0.346634</td>\n",
              "      <td>0.043348</td>\n",
              "      <td>-3.955170e-16</td>\n",
              "      <td>7.589415e-19</td>\n",
              "      <td>8.673617e-17</td>\n",
              "      <td>-1.040834e-16</td>\n",
              "      <td>3.469447e-17</td>\n",
              "      <td>-4.024558e-16</td>\n",
              "      <td>-2.220446e-16</td>\n",
              "      <td>-2.949030e-17</td>\n",
              "      <td>-4.510281e-17</td>\n",
              "      <td>1.000000e+00</td>\n",
              "      <td>-2.602085e-18</td>\n",
              "      <td>-6.938894e-17</td>\n",
              "      <td>-1.214306e-16</td>\n",
              "      <td>8.673617e-18</td>\n",
              "      <td>-5.273559e-16</td>\n",
              "      <td>-3.469447e-18</td>\n",
              "      <td>2.775558e-17</td>\n",
              "      <td>2.385245e-18</td>\n",
              "      <td>2.706169e-16</td>\n",
              "      <td>3.885781e-16</td>\n",
              "      <td>8.890458e-18</td>\n",
              "    </tr>\n",
              "    <tr>\n",
              "      <th>9</th>\n",
              "      <td>0.000493</td>\n",
              "      <td>0.589449</td>\n",
              "      <td>0.352632</td>\n",
              "      <td>0.361481</td>\n",
              "      <td>0.523552</td>\n",
              "      <td>0.421182</td>\n",
              "      <td>0.000493</td>\n",
              "      <td>0.040327</td>\n",
              "      <td>0.365497</td>\n",
              "      <td>0.060703</td>\n",
              "      <td>-2.081668e-17</td>\n",
              "      <td>7.589415e-19</td>\n",
              "      <td>-6.938894e-18</td>\n",
              "      <td>6.938894e-17</td>\n",
              "      <td>3.122502e-17</td>\n",
              "      <td>1.526557e-16</td>\n",
              "      <td>6.106227e-16</td>\n",
              "      <td>-2.255141e-17</td>\n",
              "      <td>1.561251e-17</td>\n",
              "      <td>7.632783e-17</td>\n",
              "      <td>-1.040834e-17</td>\n",
              "      <td>1.526557e-16</td>\n",
              "      <td>5.204170e-17</td>\n",
              "      <td>2.602085e-18</td>\n",
              "      <td>-3.608225e-16</td>\n",
              "      <td>1.000000e+00</td>\n",
              "      <td>1.908196e-17</td>\n",
              "      <td>6.505213e-19</td>\n",
              "      <td>1.040834e-16</td>\n",
              "      <td>2.775558e-16</td>\n",
              "      <td>4.336809e-18</td>\n",
              "    </tr>\n",
              "    <tr>\n",
              "      <th>10</th>\n",
              "      <td>0.000917</td>\n",
              "      <td>0.582254</td>\n",
              "      <td>0.311201</td>\n",
              "      <td>0.311429</td>\n",
              "      <td>0.528221</td>\n",
              "      <td>0.416725</td>\n",
              "      <td>0.000856</td>\n",
              "      <td>0.028518</td>\n",
              "      <td>0.359874</td>\n",
              "      <td>0.048788</td>\n",
              "      <td>-6.938894e-18</td>\n",
              "      <td>7.589415e-19</td>\n",
              "      <td>-1.040834e-17</td>\n",
              "      <td>7.632783e-17</td>\n",
              "      <td>1.000000e+00</td>\n",
              "      <td>1.110223e-16</td>\n",
              "      <td>4.996004e-16</td>\n",
              "      <td>-2.255141e-17</td>\n",
              "      <td>1.387779e-17</td>\n",
              "      <td>4.857226e-17</td>\n",
              "      <td>-1.127570e-17</td>\n",
              "      <td>1.526557e-16</td>\n",
              "      <td>4.510281e-17</td>\n",
              "      <td>1.301043e-18</td>\n",
              "      <td>-3.608225e-16</td>\n",
              "      <td>5.204170e-17</td>\n",
              "      <td>1.734723e-17</td>\n",
              "      <td>2.168404e-19</td>\n",
              "      <td>7.632783e-17</td>\n",
              "      <td>2.498002e-16</td>\n",
              "      <td>3.469447e-18</td>\n",
              "    </tr>\n",
              "    <tr>\n",
              "      <th>11</th>\n",
              "      <td>0.001217</td>\n",
              "      <td>0.581495</td>\n",
              "      <td>0.141143</td>\n",
              "      <td>0.144917</td>\n",
              "      <td>0.483712</td>\n",
              "      <td>0.370644</td>\n",
              "      <td>0.001206</td>\n",
              "      <td>0.024609</td>\n",
              "      <td>0.385777</td>\n",
              "      <td>0.046450</td>\n",
              "      <td>-4.857226e-16</td>\n",
              "      <td>8.673617e-19</td>\n",
              "      <td>2.289835e-16</td>\n",
              "      <td>-2.046974e-16</td>\n",
              "      <td>3.816392e-17</td>\n",
              "      <td>-7.494005e-16</td>\n",
              "      <td>-9.159340e-16</td>\n",
              "      <td>3.469447e-18</td>\n",
              "      <td>-2.602085e-17</td>\n",
              "      <td>-1.665335e-16</td>\n",
              "      <td>7.112366e-17</td>\n",
              "      <td>-6.938894e-16</td>\n",
              "      <td>6.938894e-17</td>\n",
              "      <td>-2.428613e-17</td>\n",
              "      <td>1.000000e+00</td>\n",
              "      <td>-9.714451e-17</td>\n",
              "      <td>2.775558e-17</td>\n",
              "      <td>-5.204170e-18</td>\n",
              "      <td>3.261280e-16</td>\n",
              "      <td>3.885781e-16</td>\n",
              "      <td>1.019150e-17</td>\n",
              "    </tr>\n",
              "    <tr>\n",
              "      <th>12</th>\n",
              "      <td>0.000119</td>\n",
              "      <td>0.675369</td>\n",
              "      <td>0.314724</td>\n",
              "      <td>0.309108</td>\n",
              "      <td>0.549621</td>\n",
              "      <td>0.440872</td>\n",
              "      <td>0.000120</td>\n",
              "      <td>0.022868</td>\n",
              "      <td>0.335106</td>\n",
              "      <td>0.041812</td>\n",
              "      <td>-1.179612e-16</td>\n",
              "      <td>7.589415e-19</td>\n",
              "      <td>-6.938894e-18</td>\n",
              "      <td>1.000000e+00</td>\n",
              "      <td>3.469447e-17</td>\n",
              "      <td>4.163336e-17</td>\n",
              "      <td>5.828671e-16</td>\n",
              "      <td>-2.602085e-17</td>\n",
              "      <td>1.734723e-17</td>\n",
              "      <td>1.179612e-16</td>\n",
              "      <td>-1.127570e-17</td>\n",
              "      <td>1.665335e-16</td>\n",
              "      <td>1.387779e-17</td>\n",
              "      <td>4.336809e-18</td>\n",
              "      <td>-4.440892e-16</td>\n",
              "      <td>8.673617e-17</td>\n",
              "      <td>2.081668e-17</td>\n",
              "      <td>2.385245e-18</td>\n",
              "      <td>1.595946e-16</td>\n",
              "      <td>2.775558e-16</td>\n",
              "      <td>5.854692e-18</td>\n",
              "    </tr>\n",
              "    <tr>\n",
              "      <th>13</th>\n",
              "      <td>0.000839</td>\n",
              "      <td>0.582832</td>\n",
              "      <td>0.492148</td>\n",
              "      <td>0.490385</td>\n",
              "      <td>0.546604</td>\n",
              "      <td>0.441623</td>\n",
              "      <td>0.000739</td>\n",
              "      <td>0.049366</td>\n",
              "      <td>0.376437</td>\n",
              "      <td>0.070206</td>\n",
              "      <td>5.134781e-16</td>\n",
              "      <td>-1.409463e-17</td>\n",
              "      <td>1.457168e-16</td>\n",
              "      <td>-2.393918e-16</td>\n",
              "      <td>-2.046974e-16</td>\n",
              "      <td>9.298118e-16</td>\n",
              "      <td>1.000000e+00</td>\n",
              "      <td>2.671474e-16</td>\n",
              "      <td>6.418477e-17</td>\n",
              "      <td>-5.620504e-16</td>\n",
              "      <td>1.162265e-16</td>\n",
              "      <td>-7.632783e-16</td>\n",
              "      <td>-2.393918e-16</td>\n",
              "      <td>-4.683753e-17</td>\n",
              "      <td>2.192690e-15</td>\n",
              "      <td>-1.353084e-16</td>\n",
              "      <td>3.122502e-17</td>\n",
              "      <td>-4.770490e-18</td>\n",
              "      <td>3.608225e-16</td>\n",
              "      <td>4.163336e-16</td>\n",
              "      <td>1.105886e-17</td>\n",
              "    </tr>\n",
              "    <tr>\n",
              "      <th>14</th>\n",
              "      <td>0.000305</td>\n",
              "      <td>0.613091</td>\n",
              "      <td>0.268142</td>\n",
              "      <td>0.266167</td>\n",
              "      <td>0.539172</td>\n",
              "      <td>0.431034</td>\n",
              "      <td>0.000305</td>\n",
              "      <td>0.011288</td>\n",
              "      <td>0.333235</td>\n",
              "      <td>0.030340</td>\n",
              "      <td>4.163336e-17</td>\n",
              "      <td>7.589415e-19</td>\n",
              "      <td>1.000000e+00</td>\n",
              "      <td>7.285839e-17</td>\n",
              "      <td>3.122502e-17</td>\n",
              "      <td>6.938894e-17</td>\n",
              "      <td>4.163336e-16</td>\n",
              "      <td>-2.081668e-17</td>\n",
              "      <td>1.214306e-17</td>\n",
              "      <td>2.775558e-17</td>\n",
              "      <td>-1.040834e-17</td>\n",
              "      <td>1.526557e-16</td>\n",
              "      <td>4.510281e-17</td>\n",
              "      <td>0.000000e+00</td>\n",
              "      <td>-3.053113e-16</td>\n",
              "      <td>3.816392e-17</td>\n",
              "      <td>1.561251e-17</td>\n",
              "      <td>-4.336809e-19</td>\n",
              "      <td>5.551115e-17</td>\n",
              "      <td>2.220446e-16</td>\n",
              "      <td>2.818926e-18</td>\n",
              "    </tr>\n",
              "    <tr>\n",
              "      <th>15</th>\n",
              "      <td>0.002405</td>\n",
              "      <td>0.631215</td>\n",
              "      <td>0.271930</td>\n",
              "      <td>0.272874</td>\n",
              "      <td>0.562848</td>\n",
              "      <td>0.437205</td>\n",
              "      <td>0.002427</td>\n",
              "      <td>0.019213</td>\n",
              "      <td>0.330000</td>\n",
              "      <td>0.037931</td>\n",
              "      <td>4.857226e-17</td>\n",
              "      <td>6.505213e-19</td>\n",
              "      <td>-6.938894e-18</td>\n",
              "      <td>6.591949e-17</td>\n",
              "      <td>2.775558e-17</td>\n",
              "      <td>-1.387779e-17</td>\n",
              "      <td>1.942890e-16</td>\n",
              "      <td>1.000000e+00</td>\n",
              "      <td>8.673617e-18</td>\n",
              "      <td>-1.387779e-17</td>\n",
              "      <td>-1.040834e-17</td>\n",
              "      <td>1.387779e-16</td>\n",
              "      <td>3.816392e-17</td>\n",
              "      <td>-2.602085e-18</td>\n",
              "      <td>-2.220446e-16</td>\n",
              "      <td>2.081668e-17</td>\n",
              "      <td>1.214306e-17</td>\n",
              "      <td>-1.301043e-18</td>\n",
              "      <td>2.081668e-17</td>\n",
              "      <td>1.665335e-16</td>\n",
              "      <td>1.301043e-18</td>\n",
              "    </tr>\n",
              "    <tr>\n",
              "      <th>16</th>\n",
              "      <td>0.001671</td>\n",
              "      <td>0.575088</td>\n",
              "      <td>0.100226</td>\n",
              "      <td>0.103781</td>\n",
              "      <td>0.507702</td>\n",
              "      <td>0.384600</td>\n",
              "      <td>0.001651</td>\n",
              "      <td>0.017204</td>\n",
              "      <td>0.385339</td>\n",
              "      <td>0.039158</td>\n",
              "      <td>2.081668e-17</td>\n",
              "      <td>-5.204170e-18</td>\n",
              "      <td>2.706169e-16</td>\n",
              "      <td>-2.255141e-16</td>\n",
              "      <td>3.816392e-17</td>\n",
              "      <td>-1.665335e-16</td>\n",
              "      <td>-1.082467e-15</td>\n",
              "      <td>1.387779e-16</td>\n",
              "      <td>3.122502e-17</td>\n",
              "      <td>-4.163336e-16</td>\n",
              "      <td>9.974660e-17</td>\n",
              "      <td>-8.743006e-16</td>\n",
              "      <td>-1.040834e-17</td>\n",
              "      <td>-3.816392e-17</td>\n",
              "      <td>1.360023e-15</td>\n",
              "      <td>-1.214306e-16</td>\n",
              "      <td>3.122502e-17</td>\n",
              "      <td>-7.155734e-18</td>\n",
              "      <td>3.538836e-16</td>\n",
              "      <td>1.000000e+00</td>\n",
              "      <td>1.084202e-17</td>\n",
              "    </tr>\n",
              "    <tr>\n",
              "      <th>17</th>\n",
              "      <td>0.001441</td>\n",
              "      <td>0.573037</td>\n",
              "      <td>0.331034</td>\n",
              "      <td>0.319629</td>\n",
              "      <td>0.550710</td>\n",
              "      <td>0.435493</td>\n",
              "      <td>0.001437</td>\n",
              "      <td>0.017665</td>\n",
              "      <td>0.379310</td>\n",
              "      <td>0.039261</td>\n",
              "      <td>3.469447e-17</td>\n",
              "      <td>5.421011e-19</td>\n",
              "      <td>-6.938894e-18</td>\n",
              "      <td>3.469447e-17</td>\n",
              "      <td>1.734723e-17</td>\n",
              "      <td>-5.551115e-17</td>\n",
              "      <td>-5.551115e-17</td>\n",
              "      <td>-8.673617e-18</td>\n",
              "      <td>-5.204170e-18</td>\n",
              "      <td>-4.857226e-17</td>\n",
              "      <td>-8.673617e-18</td>\n",
              "      <td>9.714451e-17</td>\n",
              "      <td>1.387779e-17</td>\n",
              "      <td>-3.469447e-18</td>\n",
              "      <td>2.775558e-17</td>\n",
              "      <td>-3.469447e-18</td>\n",
              "      <td>1.000000e+00</td>\n",
              "      <td>-1.084202e-18</td>\n",
              "      <td>-1.387779e-17</td>\n",
              "      <td>-2.775558e-17</td>\n",
              "      <td>-6.505213e-19</td>\n",
              "    </tr>\n",
              "    <tr>\n",
              "      <th>18</th>\n",
              "      <td>0.000349</td>\n",
              "      <td>0.594391</td>\n",
              "      <td>0.126899</td>\n",
              "      <td>0.133223</td>\n",
              "      <td>0.521842</td>\n",
              "      <td>0.393640</td>\n",
              "      <td>0.000354</td>\n",
              "      <td>0.022757</td>\n",
              "      <td>0.374799</td>\n",
              "      <td>0.043997</td>\n",
              "      <td>1.000000e+00</td>\n",
              "      <td>7.589415e-19</td>\n",
              "      <td>-1.040834e-17</td>\n",
              "      <td>0.000000e+00</td>\n",
              "      <td>3.469447e-17</td>\n",
              "      <td>-4.163336e-17</td>\n",
              "      <td>5.273559e-16</td>\n",
              "      <td>-2.775558e-17</td>\n",
              "      <td>1.734723e-17</td>\n",
              "      <td>1.526557e-16</td>\n",
              "      <td>-1.127570e-17</td>\n",
              "      <td>1.665335e-16</td>\n",
              "      <td>-1.734723e-17</td>\n",
              "      <td>6.071532e-18</td>\n",
              "      <td>-4.718448e-16</td>\n",
              "      <td>1.006140e-16</td>\n",
              "      <td>2.255141e-17</td>\n",
              "      <td>3.686287e-18</td>\n",
              "      <td>1.942890e-16</td>\n",
              "      <td>3.053113e-16</td>\n",
              "      <td>6.722053e-18</td>\n",
              "    </tr>\n",
              "    <tr>\n",
              "      <th>19</th>\n",
              "      <td>0.000613</td>\n",
              "      <td>0.565237</td>\n",
              "      <td>0.364684</td>\n",
              "      <td>0.370826</td>\n",
              "      <td>0.537214</td>\n",
              "      <td>0.422109</td>\n",
              "      <td>0.000570</td>\n",
              "      <td>0.039416</td>\n",
              "      <td>0.386692</td>\n",
              "      <td>0.061034</td>\n",
              "      <td>2.359224e-16</td>\n",
              "      <td>-8.782038e-18</td>\n",
              "      <td>2.810252e-16</td>\n",
              "      <td>-2.289835e-16</td>\n",
              "      <td>-1.734723e-17</td>\n",
              "      <td>1.000000e+00</td>\n",
              "      <td>-1.137979e-15</td>\n",
              "      <td>1.925543e-16</td>\n",
              "      <td>4.336809e-17</td>\n",
              "      <td>-4.718448e-16</td>\n",
              "      <td>1.058181e-16</td>\n",
              "      <td>-9.020562e-16</td>\n",
              "      <td>-1.110223e-16</td>\n",
              "      <td>-4.119968e-17</td>\n",
              "      <td>1.665335e-15</td>\n",
              "      <td>-1.249001e-16</td>\n",
              "      <td>3.122502e-17</td>\n",
              "      <td>-7.589415e-18</td>\n",
              "      <td>3.538836e-16</td>\n",
              "      <td>4.163336e-16</td>\n",
              "      <td>1.084202e-17</td>\n",
              "    </tr>\n",
              "    <tr>\n",
              "      <th>20</th>\n",
              "      <td>0.002114</td>\n",
              "      <td>0.557130</td>\n",
              "      <td>0.318635</td>\n",
              "      <td>0.308904</td>\n",
              "      <td>0.528485</td>\n",
              "      <td>0.429813</td>\n",
              "      <td>0.002097</td>\n",
              "      <td>0.033228</td>\n",
              "      <td>0.382327</td>\n",
              "      <td>0.054708</td>\n",
              "      <td>4.163336e-17</td>\n",
              "      <td>5.421011e-19</td>\n",
              "      <td>-6.938894e-18</td>\n",
              "      <td>4.510281e-17</td>\n",
              "      <td>2.081668e-17</td>\n",
              "      <td>-1.387779e-17</td>\n",
              "      <td>2.775558e-17</td>\n",
              "      <td>-1.214306e-17</td>\n",
              "      <td>1.000000e+00</td>\n",
              "      <td>-4.857226e-17</td>\n",
              "      <td>-8.673617e-18</td>\n",
              "      <td>1.110223e-16</td>\n",
              "      <td>2.428613e-17</td>\n",
              "      <td>-2.602085e-18</td>\n",
              "      <td>-1.387779e-16</td>\n",
              "      <td>-3.469447e-18</td>\n",
              "      <td>6.938894e-18</td>\n",
              "      <td>-8.673617e-19</td>\n",
              "      <td>-1.387779e-17</td>\n",
              "      <td>8.326673e-17</td>\n",
              "      <td>-2.168404e-19</td>\n",
              "    </tr>\n",
              "  </tbody>\n",
              "</table>\n",
              "</div>\n",
              "      <button class=\"colab-df-convert\" onclick=\"convertToInteractive('df-fe48a663-2577-43b1-bdd7-db8b824c1d0c')\"\n",
              "              title=\"Convert this dataframe to an interactive table.\"\n",
              "              style=\"display:none;\">\n",
              "        \n",
              "  <svg xmlns=\"http://www.w3.org/2000/svg\" height=\"24px\"viewBox=\"0 0 24 24\"\n",
              "       width=\"24px\">\n",
              "    <path d=\"M0 0h24v24H0V0z\" fill=\"none\"/>\n",
              "    <path d=\"M18.56 5.44l.94 2.06.94-2.06 2.06-.94-2.06-.94-.94-2.06-.94 2.06-2.06.94zm-11 1L8.5 8.5l.94-2.06 2.06-.94-2.06-.94L8.5 2.5l-.94 2.06-2.06.94zm10 10l.94 2.06.94-2.06 2.06-.94-2.06-.94-.94-2.06-.94 2.06-2.06.94z\"/><path d=\"M17.41 7.96l-1.37-1.37c-.4-.4-.92-.59-1.43-.59-.52 0-1.04.2-1.43.59L10.3 9.45l-7.72 7.72c-.78.78-.78 2.05 0 2.83L4 21.41c.39.39.9.59 1.41.59.51 0 1.02-.2 1.41-.59l7.78-7.78 2.81-2.81c.8-.78.8-2.07 0-2.86zM5.41 20L4 18.59l7.72-7.72 1.47 1.35L5.41 20z\"/>\n",
              "  </svg>\n",
              "      </button>\n",
              "      \n",
              "  <style>\n",
              "    .colab-df-container {\n",
              "      display:flex;\n",
              "      flex-wrap:wrap;\n",
              "      gap: 12px;\n",
              "    }\n",
              "\n",
              "    .colab-df-convert {\n",
              "      background-color: #E8F0FE;\n",
              "      border: none;\n",
              "      border-radius: 50%;\n",
              "      cursor: pointer;\n",
              "      display: none;\n",
              "      fill: #1967D2;\n",
              "      height: 32px;\n",
              "      padding: 0 0 0 0;\n",
              "      width: 32px;\n",
              "    }\n",
              "\n",
              "    .colab-df-convert:hover {\n",
              "      background-color: #E2EBFA;\n",
              "      box-shadow: 0px 1px 2px rgba(60, 64, 67, 0.3), 0px 1px 3px 1px rgba(60, 64, 67, 0.15);\n",
              "      fill: #174EA6;\n",
              "    }\n",
              "\n",
              "    [theme=dark] .colab-df-convert {\n",
              "      background-color: #3B4455;\n",
              "      fill: #D2E3FC;\n",
              "    }\n",
              "\n",
              "    [theme=dark] .colab-df-convert:hover {\n",
              "      background-color: #434B5C;\n",
              "      box-shadow: 0px 1px 3px 1px rgba(0, 0, 0, 0.15);\n",
              "      filter: drop-shadow(0px 1px 2px rgba(0, 0, 0, 0.3));\n",
              "      fill: #FFFFFF;\n",
              "    }\n",
              "  </style>\n",
              "\n",
              "      <script>\n",
              "        const buttonEl =\n",
              "          document.querySelector('#df-fe48a663-2577-43b1-bdd7-db8b824c1d0c button.colab-df-convert');\n",
              "        buttonEl.style.display =\n",
              "          google.colab.kernel.accessAllowed ? 'block' : 'none';\n",
              "\n",
              "        async function convertToInteractive(key) {\n",
              "          const element = document.querySelector('#df-fe48a663-2577-43b1-bdd7-db8b824c1d0c');\n",
              "          const dataTable =\n",
              "            await google.colab.kernel.invokeFunction('convertToInteractive',\n",
              "                                                     [key], {});\n",
              "          if (!dataTable) return;\n",
              "\n",
              "          const docLinkHtml = 'Like what you see? Visit the ' +\n",
              "            '<a target=\"_blank\" href=https://colab.research.google.com/notebooks/data_table.ipynb>data table notebook</a>'\n",
              "            + ' to learn more about interactive tables.';\n",
              "          element.innerHTML = '';\n",
              "          dataTable['output_type'] = 'display_data';\n",
              "          await google.colab.output.renderOutput(dataTable, element);\n",
              "          const docLink = document.createElement('div');\n",
              "          docLink.innerHTML = docLinkHtml;\n",
              "          element.appendChild(docLink);\n",
              "        }\n",
              "      </script>\n",
              "    </div>\n",
              "  </div>\n",
              "  "
            ]
          },
          "metadata": {},
          "execution_count": 153
        }
      ]
    },
    {
      "cell_type": "markdown",
      "source": [
        "Looking at cluster 6 we can see that projects with higher goal ,goal_usd(goal in USD) are more likely to succeed since the specific feature of this cluster is higher  value for goal. The success rate of this cluster is compared to other clusters is  the highest\n",
        "<br>\n",
        "\n",
        "We can see that the  cluster 10 which has  a high percent of failure has  higher value for category_flight. Hence this feature could be a red alert for the project to fail and the project should be scrutinised before launching"
      ],
      "metadata": {
        "id": "az-YSx-zlpJL"
      }
    }
  ]
}